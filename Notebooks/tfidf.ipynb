{
 "cells": [
  {
   "cell_type": "code",
   "execution_count": 1,
   "id": "cd3bdc75",
   "metadata": {},
   "outputs": [
    {
     "data": {
      "text/plain": [
       "['C:\\\\Users\\\\ksb20168\\\\OneDrive - University of Strathclyde\\\\Fifth Year\\\\MS983\\\\Models\\\\ISOT_tfidf.joblib']"
      ]
     },
     "execution_count": 1,
     "metadata": {},
     "output_type": "execute_result"
    }
   ],
   "source": [
    "from sklearn.feature_extraction.text import TfidfVectorizer\n",
    "import joblib\n",
    "import pandas as pd\n",
    "from sklearn.model_selection import train_test_split\n",
    "\n",
    "# Assume you have your ISOT dataset loaded\n",
    "ISOTdf = pd.read_csv(r'C:\\Users\\ksb20168\\OneDrive - University of Strathclyde\\Fifth Year\\MS983\\Datasets\\ISOT\\FullyCleanISOT.csv')\n",
    "texts = ISOTdf['text'].fillna('').tolist()\n",
    "y = ISOTdf['label'].astype(int).values\n",
    "\n",
    "# Split the dataset into training and testing sets\n",
    "X_train, X_test, y_train, y_test = train_test_split(\n",
    "    texts, y, test_size=0.2, random_state=42, stratify=y\n",
    ")\n",
    "\n",
    "# Set up the TF-IDF Vectorizer\n",
    "tfidf_vectorizer = TfidfVectorizer(stop_words='english', max_features=10000, ngram_range=(1, 3))\n",
    "\n",
    "# Recre\n",
    "tfidf_vectorizer.fit(X_train)\n",
    "\n",
    "# Save it\n",
    "joblib.dump(tfidf_vectorizer, r\"C:\\Users\\ksb20168\\OneDrive - University of Strathclyde\\Fifth Year\\MS983\\Models\\ISOT_tfidf.joblib\")"
   ]
  }
 ],
 "metadata": {
  "kernelspec": {
   "display_name": "base",
   "language": "python",
   "name": "python3"
  },
  "language_info": {
   "codemirror_mode": {
    "name": "ipython",
    "version": 3
   },
   "file_extension": ".py",
   "mimetype": "text/x-python",
   "name": "python",
   "nbconvert_exporter": "python",
   "pygments_lexer": "ipython3",
   "version": "3.12.4"
  }
 },
 "nbformat": 4,
 "nbformat_minor": 5
}
