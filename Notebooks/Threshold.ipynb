{
 "cells": [
  {
   "cell_type": "markdown",
   "id": "025805a2",
   "metadata": {
    "id": "025805a2"
   },
   "source": [
    "# BERT LIAR"
   ]
  },
  {
   "cell_type": "code",
   "execution_count": 10,
   "id": "UJ6F6gXZZ3sB",
   "metadata": {
    "colab": {
     "base_uri": "https://localhost:8080/"
    },
    "executionInfo": {
     "elapsed": 795,
     "status": "ok",
     "timestamp": 1755873390965,
     "user": {
      "displayName": "Euan Smith",
      "userId": "02253928509971208891"
     },
     "user_tz": -60
    },
    "id": "UJ6F6gXZZ3sB",
    "outputId": "05d2f53c-f0b2-40b5-9e3c-c9b7ade03aa2"
   },
   "outputs": [
    {
     "name": "stdout",
     "output_type": "stream",
     "text": [
      "Drive already mounted at /content/drive; to attempt to forcibly remount, call drive.mount(\"/content/drive\", force_remount=True).\n"
     ]
    }
   ],
   "source": [
    "from google.colab import drive\n",
    "drive.mount('/content/drive')"
   ]
  },
  {
   "cell_type": "code",
   "execution_count": null,
   "id": "4e477a0a",
   "metadata": {
    "colab": {
     "base_uri": "https://localhost:8080/"
    },
    "executionInfo": {
     "elapsed": 14541,
     "status": "ok",
     "timestamp": 1755873405506,
     "user": {
      "displayName": "Euan Smith",
      "userId": "02253928509971208891"
     },
     "user_tz": -60
    },
    "id": "4e477a0a",
    "outputId": "dd688dd1-a5bc-4b3d-d95e-4e2a4c6d89c0"
   },
   "outputs": [
    {
     "name": "stdout",
     "output_type": "stream",
     "text": [
      "/content/drive/MyDrive/MS983/Datasets/LIAR\n"
     ]
    },
    {
     "name": "stderr",
     "output_type": "stream",
     "text": [
      "/usr/local/lib/python3.12/dist-packages/keras/src/saving/serialization_lib.py:734: UserWarning: `compile()` was not called as part of model loading because the model's `compile()` method is custom. All subclassed Models that have `compile()` overridden should also override `get_compile_config()` and `compile_from_config(config)`. Alternatively, you can call `compile()` manually after loading.\n",
      "  instance.compile_from_config(compile_config)\n",
      "/usr/local/lib/python3.12/dist-packages/keras/src/saving/saving_lib.py:802: UserWarning: Skipping variable loading for optimizer 'adam', because it has 2 variables whereas the saved optimizer has 52 variables. \n",
      "  saveable.load_own_variables(weights_store.get(inner_path))\n"
     ]
    },
    {
     "name": "stdout",
     "output_type": "stream",
     "text": [
      "\u001b[1m40/40\u001b[0m \u001b[32m━━━━━━━━━━━━━━━━━━━━\u001b[0m\u001b[37m\u001b[0m \u001b[1m11s\u001b[0m 147ms/step\n"
     ]
    }
   ],
   "source": [
    "%cd /content/drive/MyDrive/MS983/Datasets/LIAR/\n",
    "\n",
    "# Import necessary libraries\n",
    "import tensorflow as tf\n",
    "from huggingface_hub import hf_hub_download\n",
    "from transformers import BertTokenizerFast\n",
    "import pandas as pd\n",
    "import numpy as np\n",
    "from sklearn.metrics import accuracy_score, precision_score, recall_score, f1_score, confusion_matrix, classification_report\n",
    "import matplotlib.pyplot as plt\n",
    "from sklearn import metrics\n",
    "\n",
    "# Load LIAR dataset\n",
    "df = pd.read_csv(\"liar_dataset.csv\")[[\"statement\", \"label_binary\", \"dataset\"]].dropna()\n",
    "texts = df[\"statement\"].tolist()\n",
    "labels = df[\"label_binary\"].values\n",
    "dataset = df[\"dataset\"].values\n",
    "\n",
    "# Tokenize the texts\n",
    "tokenizer = BertTokenizerFast.from_pretrained(\"bert-base-uncased\")\n",
    "encodings = tokenizer(texts, truncation=True, padding=True, max_length=128)\n",
    "\n",
    "# Prepare model inputs\n",
    "ids = np.array(encodings[\"input_ids\"])\n",
    "mask = np.array(encodings[\"attention_mask\"])\n",
    "labels = np.array(labels)\n",
    "segs = np.zeros_like(ids)\n",
    "\n",
    "# Select test split (dataset == 2)\n",
    "test_idx = dataset == 2\n",
    "X_test_ids, X_test_msk, X_test_seg, y_test = (\n",
    "    ids[test_idx],\n",
    "    mask[test_idx],\n",
    "    segs[test_idx],\n",
    "    labels[test_idx],\n",
    ")\n",
    "\n",
    "test_x = {\n",
    "    \"token_ids\": X_test_ids,\n",
    "    \"padding_mask\": X_test_msk,\n",
    "    \"segment_ids\": X_test_seg,\n",
    "}\n",
    "\n",
    "# Load the pre-trained model\n",
    "MODEL_PATH = hf_hub_download(\n",
    "    repo_id=\"euansmith9/liar_bert_model\", filename=\"liar_bert.keras\"\n",
    ")\n",
    "model = tf.keras.models.load_model(MODEL_PATH)\n",
    "\n",
    "logits = model.predict(test_x, batch_size=32, verbose=1)\n",
    "logits = np.array(logits).reshape(-1)\n",
    "\n",
    "p_real = tf.sigmoid(logits).numpy().ravel()            # probability of \"real\"\n",
    "p_fake = 1.0 - p_real\n",
    "probs = np.stack([p_fake, p_real], axis=-1)"
   ]
  },
  {
   "cell_type": "code",
   "execution_count": null,
   "id": "fa877ca4",
   "metadata": {
    "colab": {
     "base_uri": "https://localhost:8080/"
    },
    "executionInfo": {
     "elapsed": 64,
     "status": "ok",
     "timestamp": 1755873405572,
     "user": {
      "displayName": "Euan Smith",
      "userId": "02253928509971208891"
     },
     "user_tz": -60
    },
    "id": "fa877ca4",
    "outputId": "de8e39bf-bd2c-45f5-b394-d82ff32659a2"
   },
   "outputs": [
    {
     "name": "stdout",
     "output_type": "stream",
     "text": [
      "Thresholds=(0.475,0.525) -> Prec=0.6333, Rec=0.6260, F1=0.6268, Coverage=0.91\n",
      "Thresholds=(0.450,0.550) -> Prec=0.6521, Rec=0.6412, F1=0.6427, Coverage=0.81\n",
      "Thresholds=(0.425,0.575) -> Prec=0.6658, Rec=0.6482, F1=0.6500, Coverage=0.70\n",
      "Thresholds=(0.400,0.600) -> Prec=0.6810, Rec=0.6518, F1=0.6547, Coverage=0.61\n",
      "Thresholds=(0.375,0.625) -> Prec=0.6902, Rec=0.6460, F1=0.6507, Coverage=0.52\n",
      "Thresholds=(0.350,0.650) -> Prec=0.7097, Rec=0.6441, F1=0.6496, Coverage=0.43\n",
      "Thresholds=(0.325,0.675) -> Prec=0.7053, Rec=0.6254, F1=0.6309, Coverage=0.35\n",
      "Thresholds=(0.300,0.700) -> Prec=0.7272, Rec=0.5978, F1=0.6000, Coverage=0.27\n",
      "Thresholds=(0.275,0.725) -> Prec=0.6849, Rec=0.5491, F1=0.5299, Coverage=0.19\n",
      "Thresholds=(0.250,0.750) -> Prec=0.9062, Rec=0.6029, F1=0.6190, Coverage=0.12\n",
      "Thresholds=(0.225,0.775) -> Prec=0.9426, Rec=0.6500, F1=0.7003, Coverage=0.05\n",
      "Thresholds=(0.200,0.800) -> Prec=0.8958, Rec=0.5833, F1=0.5847, Coverage=0.02\n",
      "Thresholds=(0.175,0.825) -> Prec=0.3333, Rec=0.5000, F1=0.4000, Coverage=0.00\n",
      "Thresholds=(0.150,0.850) -> Prec=nan, Rec=nan, F1=nan, Coverage=0.00\n",
      "Thresholds=(0.125,0.875) -> Prec=nan, Rec=nan, F1=nan, Coverage=0.00\n",
      "Thresholds=(0.100,0.900) -> Prec=nan, Rec=nan, F1=nan, Coverage=0.00\n",
      "Thresholds=(0.075,0.925) -> Prec=nan, Rec=nan, F1=nan, Coverage=0.00\n",
      "Thresholds=(0.050,0.950) -> Prec=nan, Rec=nan, F1=nan, Coverage=0.00\n",
      "Thresholds=(0.025,0.975) -> Prec=nan, Rec=nan, F1=nan, Coverage=0.00\n"
     ]
    },
    {
     "name": "stderr",
     "output_type": "stream",
     "text": [
      "/usr/local/lib/python3.12/dist-packages/sklearn/metrics/_classification.py:1565: UndefinedMetricWarning: Precision is ill-defined and being set to 0.0 in labels with no predicted samples. Use `zero_division` parameter to control this behavior.\n",
      "  _warn_prf(average, modifier, f\"{metric.capitalize()} is\", len(result))\n"
     ]
    }
   ],
   "source": [
    "# Evaluate accuracy at different thresholds\n",
    "margins = np.linspace(0.025, 0.475, 19)\n",
    "\n",
    "for m in margins:\n",
    "    lower, upper = 0.5 - m, 0.5 + m\n",
    "\n",
    "    preds = np.full(y_test.shape, -1)\n",
    "    preds[p_fake >= upper] = 0  # fake\n",
    "    preds[p_fake <= lower] = 1  # real\n",
    "\n",
    "    within = preds != -1\n",
    "    coverage = within.mean()\n",
    "\n",
    "    if coverage > 0:\n",
    "        acc = accuracy_score(y_test[within], preds[within])\n",
    "        prec_macro = precision_score(y_test[within], preds[within], average=\"macro\")\n",
    "        rec_macro  = recall_score(y_test[within], preds[within], average=\"macro\")\n",
    "        f1_macro   = f1_score(y_test[within], preds[within], average=\"macro\")\n",
    "    else:\n",
    "        acc = prec_fake = rec_fake = f1_fake = float(\"nan\")\n",
    "        prec_macro = rec_macro = f1_macro = float(\"nan\")\n",
    "    print(\n",
    "        f\"Thresholds=({lower:.3f},{upper:.3f}) -> \"\n",
    "        f\"Prec={prec_macro:.4f}, Rec={rec_macro:.4f}, F1={f1_macro:.4f}, \"\n",
    "        f\"Coverage={coverage:.2f}\"\n",
    "    )\n",
    "\n"
   ]
  },
  {
   "cell_type": "code",
   "execution_count": null,
   "id": "RNfSi4Dp9Iht",
   "metadata": {
    "colab": {
     "base_uri": "https://localhost:8080/"
    },
    "executionInfo": {
     "elapsed": 15,
     "status": "ok",
     "timestamp": 1755873405590,
     "user": {
      "displayName": "Euan Smith",
      "userId": "02253928509971208891"
     },
     "user_tz": -60
    },
    "id": "RNfSi4Dp9Iht",
    "outputId": "1a557e52-4e57-4cbc-9f89-f722d8eb13f9"
   },
   "outputs": [
    {
     "name": "stdout",
     "output_type": "stream",
     "text": [
      "Coverage: 0.70\n",
      "              precision    recall  f1-score   support\n",
      "\n",
      "           0       0.64      0.49      0.56       368\n",
      "           1       0.69      0.80      0.74       522\n",
      "\n",
      "    accuracy                           0.68       890\n",
      "   macro avg       0.67      0.65      0.65       890\n",
      "weighted avg       0.67      0.68      0.67       890\n",
      "\n"
     ]
    }
   ],
   "source": [
    "# Final evaluation at chosen thresholds\n",
    "lower, upper = 0.425, 0.575\n",
    "\n",
    "preds = np.full(y_test.shape, -1)\n",
    "preds[p_fake >= upper] = 0   # fake\n",
    "preds[p_fake <= lower] = 1   # real\n",
    "\n",
    "within = preds != -1\n",
    "print(f\"Coverage: {within.mean():.2f}\")\n",
    "\n",
    "print(classification_report(y_test[within], preds[within]))\n"
   ]
  },
  {
   "cell_type": "code",
   "execution_count": 14,
   "id": "Ypz4fBKUIn4t",
   "metadata": {
    "colab": {
     "base_uri": "https://localhost:8080/",
     "height": 489
    },
    "executionInfo": {
     "elapsed": 155,
     "status": "ok",
     "timestamp": 1755873405746,
     "user": {
      "displayName": "Euan Smith",
      "userId": "02253928509971208891"
     },
     "user_tz": -60
    },
    "id": "Ypz4fBKUIn4t",
    "outputId": "51f707e6-4be1-4858-8b7b-5b717b205c0a"
   },
   "outputs": [
    {
     "name": "stdout",
     "output_type": "stream",
     "text": [
      "Coverage: 0.70\n"
     ]
    },
    {
     "data": {
      "image/png": "[encoded data removed]",
      "text/plain": [
       "<Figure size 640x480 with 2 Axes>"
      ]
     },
     "metadata": {},
     "output_type": "display_data"
    }
   ],
   "source": [
    "print(f\"Coverage: {within.mean():.2f}\")\n",
    "confusion_matrix = confusion_matrix(y_test[within], preds[within])\n",
    "cm_display = metrics.ConfusionMatrixDisplay(confusion_matrix=confusion_matrix)\n",
    "cm_display.plot(cmap=\"Blues\", values_format='d')\n",
    "plt.title(\"BERT Confusion Matrix on LIAR\")\n",
    "plt.show()"
   ]
  }
 ],
 "metadata": {
  "accelerator": "GPU",
  "colab": {
   "gpuType": "A100",
   "machine_shape": "hm",
   "provenance": []
  },
  "kernelspec": {
   "display_name": "Python 3",
   "name": "python3"
  },
  "language_info": {
   "codemirror_mode": {
    "name": "ipython",
    "version": 3
   },
   "file_extension": ".py",
   "mimetype": "text/x-python",
   "name": "python",
   "nbconvert_exporter": "python",
   "pygments_lexer": "ipython3",
   "version": "3.12.2"
  }
 },
 "nbformat": 4,
 "nbformat_minor": 5
}
